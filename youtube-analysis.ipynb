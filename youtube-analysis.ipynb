{
 "cells": [
  {
   "cell_type": "code",
   "execution_count": 1,
   "id": "003ad031",
   "metadata": {
    "_cell_guid": "b1076dfc-b9ad-4769-8c92-a6c4dae69d19",
    "_uuid": "8f2839f25d086af736a60e9eeb907d3b93b6e0e5",
    "execution": {
     "iopub.execute_input": "2022-01-11T08:50:26.830195Z",
     "iopub.status.busy": "2022-01-11T08:50:26.828468Z",
     "iopub.status.idle": "2022-01-11T08:50:27.971680Z",
     "shell.execute_reply": "2022-01-11T08:50:27.972194Z",
     "shell.execute_reply.started": "2022-01-11T07:55:52.052397Z"
    },
    "papermill": {
     "duration": 1.15478,
     "end_time": "2022-01-11T08:50:27.972489",
     "exception": false,
     "start_time": "2022-01-11T08:50:26.817709",
     "status": "completed"
    },
    "tags": []
   },
   "outputs": [
    {
     "name": "stdout",
     "output_type": "stream",
     "text": [
      "/kaggle/input/youtube-trending-video-dataset/MX_youtube_trending_data.csv\n",
      "/kaggle/input/youtube-trending-video-dataset/GB_youtube_trending_data.csv\n",
      "/kaggle/input/youtube-trending-video-dataset/BR_category_id.json\n",
      "/kaggle/input/youtube-trending-video-dataset/FR_youtube_trending_data.csv\n",
      "/kaggle/input/youtube-trending-video-dataset/IN_youtube_trending_data.csv\n",
      "/kaggle/input/youtube-trending-video-dataset/MX_category_id.json\n",
      "/kaggle/input/youtube-trending-video-dataset/GB_category_id.json\n",
      "/kaggle/input/youtube-trending-video-dataset/US_category_id.json\n",
      "/kaggle/input/youtube-trending-video-dataset/BR_youtube_trending_data.csv\n",
      "/kaggle/input/youtube-trending-video-dataset/RU_youtube_trending_data.csv\n",
      "/kaggle/input/youtube-trending-video-dataset/IN_category_id.json\n",
      "/kaggle/input/youtube-trending-video-dataset/KR_category_id.json\n",
      "/kaggle/input/youtube-trending-video-dataset/DE_youtube_trending_data.csv\n",
      "/kaggle/input/youtube-trending-video-dataset/RU_category_id.json\n",
      "/kaggle/input/youtube-trending-video-dataset/US_youtube_trending_data.csv\n",
      "/kaggle/input/youtube-trending-video-dataset/JP_youtube_trending_data.csv\n",
      "/kaggle/input/youtube-trending-video-dataset/CA_category_id.json\n",
      "/kaggle/input/youtube-trending-video-dataset/DE_category_id.json\n",
      "/kaggle/input/youtube-trending-video-dataset/KR_youtube_trending_data.csv\n",
      "/kaggle/input/youtube-trending-video-dataset/JP_category_id.json\n",
      "/kaggle/input/youtube-trending-video-dataset/CA_youtube_trending_data.csv\n",
      "/kaggle/input/youtube-trending-video-dataset/FR_category_id.json\n"
     ]
    }
   ],
   "source": [
    "# This Python 3 environment comes with many helpful analytics libraries installed\n",
    "# It is defined by the kaggle/python Docker image: https://github.com/kaggle/docker-python\n",
    "# For example, here's several helpful packages to load\n",
    "\n",
    "import numpy as np # linear algebra\n",
    "import pandas as pd # data processing, CSV file I/O (e.g. pd.read_csv)\n",
    "import seaborn as sns\n",
    "\n",
    "# Input data files are available in the read-only \"../input/\" directory\n",
    "# For example, running this (by clicking run or pressing Shift+Enter) will list all files under the input directory\n",
    "\n",
    "import os\n",
    "for dirname, _, filenames in os.walk('/kaggle/input'):\n",
    "    for filename in filenames:\n",
    "        print(os.path.join(dirname, filename))\n",
    "\n",
    "# You can write up to 20GB to the current directory (/kaggle/working/) that gets preserved as output when you create a version using \"Save & Run All\" \n",
    "# You can also write temporary files to /kaggle/temp/, but they won't be saved outside of the current session"
   ]
  },
  {
   "cell_type": "code",
   "execution_count": 2,
   "id": "d1ae733b",
   "metadata": {
    "execution": {
     "iopub.execute_input": "2022-01-11T08:50:27.988504Z",
     "iopub.status.busy": "2022-01-11T08:50:27.987822Z",
     "iopub.status.idle": "2022-01-11T08:50:31.468204Z",
     "shell.execute_reply": "2022-01-11T08:50:31.468845Z",
     "shell.execute_reply.started": "2022-01-11T07:55:52.074512Z"
    },
    "papermill": {
     "duration": 3.489962,
     "end_time": "2022-01-11T08:50:31.469021",
     "exception": false,
     "start_time": "2022-01-11T08:50:27.979059",
     "status": "completed"
    },
    "tags": []
   },
   "outputs": [
    {
     "name": "stdout",
     "output_type": "stream",
     "text": [
      "<class 'pandas.core.frame.DataFrame'>\n",
      "RangeIndex: 101154 entries, 0 to 101153\n",
      "Data columns (total 16 columns):\n",
      " #   Column             Non-Null Count   Dtype \n",
      "---  ------             --------------   ----- \n",
      " 0   video_id           101154 non-null  object\n",
      " 1   title              101154 non-null  object\n",
      " 2   publishedAt        101154 non-null  object\n",
      " 3   channelId          101154 non-null  object\n",
      " 4   channelTitle       101154 non-null  object\n",
      " 5   categoryId         101154 non-null  int64 \n",
      " 6   trending_date      101154 non-null  object\n",
      " 7   tags               101154 non-null  object\n",
      " 8   view_count         101154 non-null  int64 \n",
      " 9   likes              101154 non-null  int64 \n",
      " 10  dislikes           101154 non-null  int64 \n",
      " 11  comment_count      101154 non-null  int64 \n",
      " 12  thumbnail_link     101154 non-null  object\n",
      " 13  comments_disabled  101154 non-null  bool  \n",
      " 14  ratings_disabled   101154 non-null  bool  \n",
      " 15  description        98694 non-null   object\n",
      "dtypes: bool(2), int64(5), object(9)\n",
      "memory usage: 11.0+ MB\n"
     ]
    }
   ],
   "source": [
    "KR_data = pd.read_csv(\"/kaggle/input/youtube-trending-video-dataset/KR_youtube_trending_data.csv\")\n",
    "KR_data.info()"
   ]
  },
  {
   "cell_type": "code",
   "execution_count": 3,
   "id": "ee6bf160",
   "metadata": {
    "execution": {
     "iopub.execute_input": "2022-01-11T08:50:31.487059Z",
     "iopub.status.busy": "2022-01-11T08:50:31.484618Z",
     "iopub.status.idle": "2022-01-11T08:50:31.515794Z",
     "shell.execute_reply": "2022-01-11T08:50:31.516304Z",
     "shell.execute_reply.started": "2022-01-11T08:06:51.613918Z"
    },
    "papermill": {
     "duration": 0.041369,
     "end_time": "2022-01-11T08:50:31.516488",
     "exception": false,
     "start_time": "2022-01-11T08:50:31.475119",
     "status": "completed"
    },
    "tags": []
   },
   "outputs": [
    {
     "data": {
      "text/plain": [
       "0         2020\n",
       "1         2020\n",
       "2         2020\n",
       "3         2020\n",
       "4         2020\n",
       "          ... \n",
       "101149    2022\n",
       "101150    2022\n",
       "101151    2022\n",
       "101152    2022\n",
       "101153    2022\n",
       "Name: trending_date, Length: 101154, dtype: object"
      ]
     },
     "execution_count": 3,
     "metadata": {},
     "output_type": "execute_result"
    }
   ],
   "source": [
    "KR_year = KR_data[\"trending_date\"].map(lambda x:x[:4])\n",
    "KR_year"
   ]
  },
  {
   "cell_type": "code",
   "execution_count": 4,
   "id": "52cd4a3b",
   "metadata": {
    "execution": {
     "iopub.execute_input": "2022-01-11T08:50:31.542505Z",
     "iopub.status.busy": "2022-01-11T08:50:31.540985Z",
     "iopub.status.idle": "2022-01-11T08:50:31.574143Z",
     "shell.execute_reply": "2022-01-11T08:50:31.573572Z",
     "shell.execute_reply.started": "2022-01-11T08:07:43.74856Z"
    },
    "papermill": {
     "duration": 0.051374,
     "end_time": "2022-01-11T08:50:31.574283",
     "exception": false,
     "start_time": "2022-01-11T08:50:31.522909",
     "status": "completed"
    },
    "tags": []
   },
   "outputs": [
    {
     "data": {
      "text/html": [
       "<div>\n",
       "<style scoped>\n",
       "    .dataframe tbody tr th:only-of-type {\n",
       "        vertical-align: middle;\n",
       "    }\n",
       "\n",
       "    .dataframe tbody tr th {\n",
       "        vertical-align: top;\n",
       "    }\n",
       "\n",
       "    .dataframe thead th {\n",
       "        text-align: right;\n",
       "    }\n",
       "</style>\n",
       "<table border=\"1\" class=\"dataframe\">\n",
       "  <thead>\n",
       "    <tr style=\"text-align: right;\">\n",
       "      <th></th>\n",
       "      <th>video_id</th>\n",
       "      <th>title</th>\n",
       "      <th>publishedAt</th>\n",
       "      <th>channelId</th>\n",
       "      <th>channelTitle</th>\n",
       "      <th>categoryId</th>\n",
       "      <th>trending_date</th>\n",
       "      <th>tags</th>\n",
       "      <th>view_count</th>\n",
       "      <th>likes</th>\n",
       "      <th>dislikes</th>\n",
       "      <th>comment_count</th>\n",
       "      <th>thumbnail_link</th>\n",
       "      <th>comments_disabled</th>\n",
       "      <th>ratings_disabled</th>\n",
       "      <th>description</th>\n",
       "    </tr>\n",
       "  </thead>\n",
       "  <tbody>\n",
       "    <tr>\n",
       "      <th>24555</th>\n",
       "      <td>yKGrcJw6WLs</td>\n",
       "      <td>[신병] 물자창고</td>\n",
       "      <td>2020-12-31T08:00:04Z</td>\n",
       "      <td>UChbE5OZQ6dRHECsX0tEPEZQ</td>\n",
       "      <td>장삐쭈</td>\n",
       "      <td>23</td>\n",
       "      <td>2021-01-01T00:00:00Z</td>\n",
       "      <td>장삐쭈|삐쭈|ㅋㅋㅋ|삐쮸|장삐쮸|병맛더빙|더빙|웃긴동영상|꿀잼|신병|장삐쭈 단편선|...</td>\n",
       "      <td>1893473</td>\n",
       "      <td>38249</td>\n",
       "      <td>730</td>\n",
       "      <td>8595</td>\n",
       "      <td>https://i.ytimg.com/vi/yKGrcJw6WLs/default.jpg</td>\n",
       "      <td>False</td>\n",
       "      <td>False</td>\n",
       "      <td>스튜디오 장삐쭈장삐쭈, 정영준, 안류천, 포포, 윤성원, 허혜원, 정대준suppor...</td>\n",
       "    </tr>\n",
       "    <tr>\n",
       "      <th>24556</th>\n",
       "      <td>-Bf_BB9iTNI</td>\n",
       "      <td>RAIN(비) - 나로 바꾸자 Switch to me (duet with JYP) MV</td>\n",
       "      <td>2020-12-31T09:00:01Z</td>\n",
       "      <td>UCxXgIeE5hxWxHG6dz9Scg2w</td>\n",
       "      <td>RAIN's Official Channel</td>\n",
       "      <td>10</td>\n",
       "      <td>2021-01-01T00:00:00Z</td>\n",
       "      <td>레인|RAIN|레인컴퍼니|가수비|정지훈</td>\n",
       "      <td>2600864</td>\n",
       "      <td>0</td>\n",
       "      <td>0</td>\n",
       "      <td>20129</td>\n",
       "      <td>https://i.ytimg.com/vi/-Bf_BB9iTNI/default.jpg</td>\n",
       "      <td>False</td>\n",
       "      <td>True</td>\n",
       "      <td>RAIN X JYP나로 바꾸자 (duet with JYP) MV2020.12.31 ...</td>\n",
       "    </tr>\n",
       "    <tr>\n",
       "      <th>24557</th>\n",
       "      <td>aPmrxH3Sh4Y</td>\n",
       "      <td>2020년 제야의 종 온라인 타종행사 | 보신각 현장 행사는 진행하지 않습니다.</td>\n",
       "      <td>2020-12-31T15:22:25Z</td>\n",
       "      <td>UCZUPZW5idAxYp-Asj__lVAA</td>\n",
       "      <td>서울시 · Seoul</td>\n",
       "      <td>29</td>\n",
       "      <td>2021-01-01T00:00:00Z</td>\n",
       "      <td>2020년|제야의종|타종|2021년|새해|신축년</td>\n",
       "      <td>347049</td>\n",
       "      <td>3564</td>\n",
       "      <td>120</td>\n",
       "      <td>178</td>\n",
       "      <td>https://i.ytimg.com/vi/aPmrxH3Sh4Y/default.jpg</td>\n",
       "      <td>False</td>\n",
       "      <td>False</td>\n",
       "      <td>일시 : 2020년 12월 31일 (목) 밤 11시 30분내용 : 2020년 제야의...</td>\n",
       "    </tr>\n",
       "    <tr>\n",
       "      <th>24558</th>\n",
       "      <td>YE1tLDzvs-M</td>\n",
       "      <td>고기남자의 칠면조 파티</td>\n",
       "      <td>2020-12-31T12:45:11Z</td>\n",
       "      <td>UCT3CumbFIJiW33uq0UI3zlg</td>\n",
       "      <td>고기남자 MeatMan</td>\n",
       "      <td>26</td>\n",
       "      <td>2021-01-01T00:00:00Z</td>\n",
       "      <td>칠면조|크리스마스|터키|칠면조 요리|칠면조 먹방|칠면조 다리|고기남자</td>\n",
       "      <td>528458</td>\n",
       "      <td>15372</td>\n",
       "      <td>280</td>\n",
       "      <td>3470</td>\n",
       "      <td>https://i.ytimg.com/vi/YE1tLDzvs-M/default.jpg</td>\n",
       "      <td>False</td>\n",
       "      <td>False</td>\n",
       "      <td>첫 손님　　　　　　　　　　　　　　　　　　　　　　　　　　　　　　　　　　　　　　　　　　...</td>\n",
       "    </tr>\n",
       "    <tr>\n",
       "      <th>24559</th>\n",
       "      <td>cMtZd-h8b6o</td>\n",
       "      <td>골목 3mc를 분노하게 만든 마음고생이 심했을 공릉 백반집 사장님의 푸념?! [예능...</td>\n",
       "      <td>2020-12-31T10:02:14Z</td>\n",
       "      <td>UCdWgRSfttvDucq4ApcCg5Mw</td>\n",
       "      <td>스브스밥집</td>\n",
       "      <td>24</td>\n",
       "      <td>2021-01-01T00:00:00Z</td>\n",
       "      <td>공릉 백종원|백종원의 골목식당|골목식당|찌개백반집|골목식당 백반집|예능|백종원 백반...</td>\n",
       "      <td>494904</td>\n",
       "      <td>3918</td>\n",
       "      <td>111</td>\n",
       "      <td>3142</td>\n",
       "      <td>https://i.ytimg.com/vi/cMtZd-h8b6o/default.jpg</td>\n",
       "      <td>False</td>\n",
       "      <td>False</td>\n",
       "      <td>골목 3mc를 분노하게 만든 마음고생이 심했을 공릉 백반집 사장님의 푸념?! [예능...</td>\n",
       "    </tr>\n",
       "  </tbody>\n",
       "</table>\n",
       "</div>"
      ],
      "text/plain": [
       "          video_id                                              title  \\\n",
       "24555  yKGrcJw6WLs                                          [신병] 물자창고   \n",
       "24556  -Bf_BB9iTNI   RAIN(비) - 나로 바꾸자 Switch to me (duet with JYP) MV   \n",
       "24557  aPmrxH3Sh4Y       2020년 제야의 종 온라인 타종행사 | 보신각 현장 행사는 진행하지 않습니다.   \n",
       "24558  YE1tLDzvs-M                                       고기남자의 칠면조 파티   \n",
       "24559  cMtZd-h8b6o  골목 3mc를 분노하게 만든 마음고생이 심했을 공릉 백반집 사장님의 푸념?! [예능...   \n",
       "\n",
       "                publishedAt                 channelId  \\\n",
       "24555  2020-12-31T08:00:04Z  UChbE5OZQ6dRHECsX0tEPEZQ   \n",
       "24556  2020-12-31T09:00:01Z  UCxXgIeE5hxWxHG6dz9Scg2w   \n",
       "24557  2020-12-31T15:22:25Z  UCZUPZW5idAxYp-Asj__lVAA   \n",
       "24558  2020-12-31T12:45:11Z  UCT3CumbFIJiW33uq0UI3zlg   \n",
       "24559  2020-12-31T10:02:14Z  UCdWgRSfttvDucq4ApcCg5Mw   \n",
       "\n",
       "                  channelTitle  categoryId         trending_date  \\\n",
       "24555                      장삐쭈          23  2021-01-01T00:00:00Z   \n",
       "24556  RAIN's Official Channel          10  2021-01-01T00:00:00Z   \n",
       "24557              서울시 · Seoul          29  2021-01-01T00:00:00Z   \n",
       "24558             고기남자 MeatMan          26  2021-01-01T00:00:00Z   \n",
       "24559                    스브스밥집          24  2021-01-01T00:00:00Z   \n",
       "\n",
       "                                                    tags  view_count  likes  \\\n",
       "24555  장삐쭈|삐쭈|ㅋㅋㅋ|삐쮸|장삐쮸|병맛더빙|더빙|웃긴동영상|꿀잼|신병|장삐쭈 단편선|...     1893473  38249   \n",
       "24556                              레인|RAIN|레인컴퍼니|가수비|정지훈     2600864      0   \n",
       "24557                         2020년|제야의종|타종|2021년|새해|신축년      347049   3564   \n",
       "24558             칠면조|크리스마스|터키|칠면조 요리|칠면조 먹방|칠면조 다리|고기남자      528458  15372   \n",
       "24559  공릉 백종원|백종원의 골목식당|골목식당|찌개백반집|골목식당 백반집|예능|백종원 백반...      494904   3918   \n",
       "\n",
       "       dislikes  comment_count  \\\n",
       "24555       730           8595   \n",
       "24556         0          20129   \n",
       "24557       120            178   \n",
       "24558       280           3470   \n",
       "24559       111           3142   \n",
       "\n",
       "                                       thumbnail_link  comments_disabled  \\\n",
       "24555  https://i.ytimg.com/vi/yKGrcJw6WLs/default.jpg              False   \n",
       "24556  https://i.ytimg.com/vi/-Bf_BB9iTNI/default.jpg              False   \n",
       "24557  https://i.ytimg.com/vi/aPmrxH3Sh4Y/default.jpg              False   \n",
       "24558  https://i.ytimg.com/vi/YE1tLDzvs-M/default.jpg              False   \n",
       "24559  https://i.ytimg.com/vi/cMtZd-h8b6o/default.jpg              False   \n",
       "\n",
       "       ratings_disabled                                        description  \n",
       "24555             False  스튜디오 장삐쭈장삐쭈, 정영준, 안류천, 포포, 윤성원, 허혜원, 정대준suppor...  \n",
       "24556              True  RAIN X JYP나로 바꾸자 (duet with JYP) MV2020.12.31 ...  \n",
       "24557             False  일시 : 2020년 12월 31일 (목) 밤 11시 30분내용 : 2020년 제야의...  \n",
       "24558             False  첫 손님　　　　　　　　　　　　　　　　　　　　　　　　　　　　　　　　　　　　　　　　　　...  \n",
       "24559             False  골목 3mc를 분노하게 만든 마음고생이 심했을 공릉 백반집 사장님의 푸념?! [예능...  "
      ]
     },
     "execution_count": 4,
     "metadata": {},
     "output_type": "execute_result"
    }
   ],
   "source": [
    "KR_2021 = KR_data[KR_year==\"2021\"]\n",
    "KR_2021.head()"
   ]
  },
  {
   "cell_type": "code",
   "execution_count": 5,
   "id": "152f7b12",
   "metadata": {
    "execution": {
     "iopub.execute_input": "2022-01-11T08:50:31.594864Z",
     "iopub.status.busy": "2022-01-11T08:50:31.593955Z",
     "iopub.status.idle": "2022-01-11T08:50:34.977310Z",
     "shell.execute_reply": "2022-01-11T08:50:34.977812Z",
     "shell.execute_reply.started": "2022-01-11T08:07:57.74546Z"
    },
    "papermill": {
     "duration": 3.396193,
     "end_time": "2022-01-11T08:50:34.977985",
     "exception": false,
     "start_time": "2022-01-11T08:50:31.581792",
     "status": "completed"
    },
    "tags": []
   },
   "outputs": [
    {
     "data": {
      "text/plain": [
       "<AxesSubplot:ylabel='view_count'>"
      ]
     },
     "execution_count": 5,
     "metadata": {},
     "output_type": "execute_result"
    },
    {
     "data": {
      "image/png": "[encoded data removed]",
      "text/plain": [
       "<Figure size 432x288 with 1 Axes>"
      ]
     },
     "metadata": {
      "needs_background": "light"
     },
     "output_type": "display_data"
    }
   ],
   "source": [
    "sns.scatterplot(x=KR_2021[\"likes\"]/KR_2021[\"dislikes\"], y=KR_2021[\"view_count\"], hue=KR_2021[\"categoryId\"])"
   ]
  },
  {
   "cell_type": "code",
   "execution_count": 6,
   "id": "95ad62d4",
   "metadata": {
    "execution": {
     "iopub.execute_input": "2022-01-11T08:50:35.001397Z",
     "iopub.status.busy": "2022-01-11T08:50:35.000360Z",
     "iopub.status.idle": "2022-01-11T08:50:38.620533Z",
     "shell.execute_reply": "2022-01-11T08:50:38.621025Z",
     "shell.execute_reply.started": "2022-01-11T08:18:22.064988Z"
    },
    "papermill": {
     "duration": 3.634265,
     "end_time": "2022-01-11T08:50:38.621194",
     "exception": false,
     "start_time": "2022-01-11T08:50:34.986929",
     "status": "completed"
    },
    "tags": []
   },
   "outputs": [
    {
     "data": {
      "text/plain": [
       "<AxesSubplot:xlabel='likes', ylabel='view_count'>"
      ]
     },
     "execution_count": 6,
     "metadata": {},
     "output_type": "execute_result"
    },
    {
     "data": {
      "image/png": "[encoded data removed]",
      "text/plain": [
       "<Figure size 432x288 with 1 Axes>"
      ]
     },
     "metadata": {
      "needs_background": "light"
     },
     "output_type": "display_data"
    }
   ],
   "source": [
    "sns.scatterplot(x=\"likes\", y=\"view_count\",data=KR_2021, hue=\"categoryId\")"
   ]
  },
  {
   "cell_type": "code",
   "execution_count": null,
   "id": "f4befe04",
   "metadata": {
    "papermill": {
     "duration": 0.0095,
     "end_time": "2022-01-11T08:50:38.640619",
     "exception": false,
     "start_time": "2022-01-11T08:50:38.631119",
     "status": "completed"
    },
    "tags": []
   },
   "outputs": [],
   "source": []
  }
 ],
 "metadata": {
  "kernelspec": {
   "display_name": "Python 3",
   "language": "python",
   "name": "python3"
  },
  "language_info": {
   "codemirror_mode": {
    "name": "ipython",
    "version": 3
   },
   "file_extension": ".py",
   "mimetype": "text/x-python",
   "name": "python",
   "nbconvert_exporter": "python",
   "pygments_lexer": "ipython3",
   "version": "3.7.12"
  },
  "papermill": {
   "default_parameters": {},
   "duration": 22.22757,
   "end_time": "2022-01-11T08:50:39.361196",
   "environment_variables": {},
   "exception": null,
   "input_path": "__notebook__.ipynb",
   "output_path": "__notebook__.ipynb",
   "parameters": {},
   "start_time": "2022-01-11T08:50:17.133626",
   "version": "2.3.3"
  }
 },
 "nbformat": 4,
 "nbformat_minor": 5
}
